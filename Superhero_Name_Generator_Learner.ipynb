{
  "nbformat": 4,
  "nbformat_minor": 0,
  "metadata": {
    "accelerator": "GPU",
    "colab": {
      "name": "Superhero Name Generator - Learner.ipynb",
      "provenance": [],
      "collapsed_sections": []
    },
    "kernelspec": {
      "display_name": "Python 3",
      "language": "python",
      "name": "python3"
    },
    "language_info": {
      "codemirror_mode": {
        "name": "ipython",
        "version": 3
      },
      "file_extension": ".py",
      "mimetype": "text/x-python",
      "name": "python",
      "nbconvert_exporter": "python",
      "pygments_lexer": "ipython3",
      "version": "3.8.3"
    }
  },
  "cells": [
    {
      "cell_type": "markdown",
      "metadata": {
        "id": "21XXWP7Fpt2L"
      },
      "source": [
        "# Superhero (and Supervillain) Name Generator\n",
        "\n",
        "---\n",
        "\n",
        "[Superhero Names Dataset](https://github.com/am1tyadav/superhero)"
      ]
    },
    {
      "cell_type": "markdown",
      "metadata": {
        "id": "H6P0NU5Cpt2R"
      },
      "source": [
        "## Task 1\n",
        "\n",
        "1. Import the data\n",
        "2. Create a tokenizer\n",
        "3. Char to index and Index to char dictionaries"
      ]
    },
    {
      "cell_type": "code",
      "metadata": {
        "id": "uq4CLmsLpt2P",
        "colab": {
          "base_uri": "https://localhost:8080/",
          "height": 35
        },
        "outputId": "0423831f-e162-42f4-8317-161aee8a9824"
      },
      "source": [
        "with open(\"/content/superhero/superheroes.txt\", \"r\") as f:\n",
        "  data= f.read()\n",
        "\n",
        "data[:100]"
      ],
      "execution_count": null,
      "outputs": [
        {
          "output_type": "execute_result",
          "data": {
            "application/vnd.google.colaboratory.intrinsic+json": {
              "type": "string"
            },
            "text/plain": [
              "'jumpa\\t\\ndoctor fate\\t\\nstarlight\\t\\nisildur\\t\\nlasher\\t\\nvarvara\\t\\nthe target\\t\\naxel\\t\\nbattra\\t\\nchangeling\\t\\npyrrh'"
            ]
          },
          "metadata": {},
          "execution_count": 3
        }
      ]
    },
    {
      "cell_type": "code",
      "metadata": {
        "id": "JqhtLuAHpt2R"
      },
      "source": [
        "import tensorflow as tf"
      ],
      "execution_count": null,
      "outputs": []
    },
    {
      "cell_type": "code",
      "metadata": {
        "id": "95Lo1Yqzpt2T"
      },
      "source": [
        "tokenizer = tf.keras.preprocessing.text.Tokenizer(\n",
        "    filters='!\"#$%&()*+,-./:;<=>?@[\\\\]^_`{|}~',\n",
        "    split='\\n',\n",
        ")"
      ],
      "execution_count": null,
      "outputs": []
    },
    {
      "cell_type": "code",
      "metadata": {
        "id": "qYfC4sj2pt2V"
      },
      "source": [
        "tokenizer.fit_on_texts(data)"
      ],
      "execution_count": null,
      "outputs": []
    },
    {
      "cell_type": "code",
      "metadata": {
        "id": "EO4-dPM6pt2X",
        "colab": {
          "base_uri": "https://localhost:8080/"
        },
        "outputId": "ba0c76ea-112a-4deb-8505-0419f3e55352"
      },
      "source": [
        "char_to_index = tokenizer.word_index\n",
        "index_to_char = dict((v,k) for k, v in char_to_index.items())\n",
        "\n",
        "print(index_to_char)"
      ],
      "execution_count": null,
      "outputs": [
        {
          "output_type": "stream",
          "name": "stdout",
          "text": [
            "{1: '\\t', 2: 'a', 3: 'e', 4: 'r', 5: 'o', 6: 'n', 7: 'i', 8: ' ', 9: 't', 10: 's', 11: 'l', 12: 'm', 13: 'h', 14: 'd', 15: 'c', 16: 'u', 17: 'g', 18: 'k', 19: 'b', 20: 'p', 21: 'y', 22: 'w', 23: 'f', 24: 'v', 25: 'j', 26: 'z', 27: 'x', 28: 'q'}\n"
          ]
        }
      ]
    },
    {
      "cell_type": "markdown",
      "metadata": {
        "id": "SMwtIw_Bpt2Z"
      },
      "source": [
        "## Task 2\n",
        "\n",
        "1. Converting between names and sequences"
      ]
    },
    {
      "cell_type": "code",
      "metadata": {
        "id": "N7iQLIXzpt2a",
        "colab": {
          "base_uri": "https://localhost:8080/"
        },
        "outputId": "5b12d408-1309-4791-daa3-23b2e45ff3de"
      },
      "source": [
        "names = data.splitlines()\n",
        "names[:10]"
      ],
      "execution_count": null,
      "outputs": [
        {
          "output_type": "execute_result",
          "data": {
            "text/plain": [
              "['jumpa\\t',\n",
              " 'doctor fate\\t',\n",
              " 'starlight\\t',\n",
              " 'isildur\\t',\n",
              " 'lasher\\t',\n",
              " 'varvara\\t',\n",
              " 'the target\\t',\n",
              " 'axel\\t',\n",
              " 'battra\\t',\n",
              " 'changeling\\t']"
            ]
          },
          "metadata": {},
          "execution_count": 11
        }
      ]
    },
    {
      "cell_type": "code",
      "metadata": {
        "id": "n_-TTfqipt2c",
        "colab": {
          "base_uri": "https://localhost:8080/"
        },
        "outputId": "a917fdd5-9289-49b9-f20c-20d1b023feec"
      },
      "source": [
        "tokenizer.texts_to_sequences(names[0])"
      ],
      "execution_count": null,
      "outputs": [
        {
          "output_type": "execute_result",
          "data": {
            "text/plain": [
              "[[25], [16], [12], [20], [2], [1]]"
            ]
          },
          "metadata": {},
          "execution_count": 12
        }
      ]
    },
    {
      "cell_type": "code",
      "metadata": {
        "id": "P6IsKH1Upt2e"
      },
      "source": [
        "def name_to_seq(name):\n",
        "\n",
        "  return[tokenizer.texts_to_sequences(c)[0][0] for c in name]"
      ],
      "execution_count": null,
      "outputs": []
    },
    {
      "cell_type": "code",
      "metadata": {
        "id": "TuLUiMP3pt2g",
        "colab": {
          "base_uri": "https://localhost:8080/"
        },
        "outputId": "b3d8b27c-a9f2-4064-e7e4-f41fac039155"
      },
      "source": [
        "name_to_seq(names[0])"
      ],
      "execution_count": null,
      "outputs": [
        {
          "output_type": "execute_result",
          "data": {
            "text/plain": [
              "[25, 16, 12, 20, 2, 1]"
            ]
          },
          "metadata": {},
          "execution_count": 16
        }
      ]
    },
    {
      "cell_type": "code",
      "metadata": {
        "id": "yFUYhimKpt2h"
      },
      "source": [
        "def seq_to_name(seq):\n",
        "  return ''.join([index_to_char[i] for i in seq if i !=0])"
      ],
      "execution_count": null,
      "outputs": []
    },
    {
      "cell_type": "code",
      "metadata": {
        "id": "ROhCqmhLpt2k",
        "colab": {
          "base_uri": "https://localhost:8080/",
          "height": 35
        },
        "outputId": "5fc23f8a-506e-4a2c-aacd-dd0bc4b4c4b1"
      },
      "source": [
        "seq_to_name(name_to_seq(names[0]))"
      ],
      "execution_count": null,
      "outputs": [
        {
          "output_type": "execute_result",
          "data": {
            "application/vnd.google.colaboratory.intrinsic+json": {
              "type": "string"
            },
            "text/plain": [
              "'jumpa\\t'"
            ]
          },
          "metadata": {},
          "execution_count": 18
        }
      ]
    },
    {
      "cell_type": "markdown",
      "metadata": {
        "id": "uCbAzsNjpt2m"
      },
      "source": [
        "## Task 3\n",
        "\n",
        "1. Creating sequences\n",
        "2. Padding all sequences"
      ]
    },
    {
      "cell_type": "code",
      "metadata": {
        "id": "zstNn-0dpt2m"
      },
      "source": [
        "sequences= []\n",
        "\n",
        "for name in names:\n",
        "  seq= name_to_seq(name)\n",
        "  if len(seq) >=2:\n",
        "    sequences += [seq[:i] for i in range(2,len(seq) + 1)]"
      ],
      "execution_count": null,
      "outputs": []
    },
    {
      "cell_type": "code",
      "metadata": {
        "id": "BjRTMysvpt2o",
        "colab": {
          "base_uri": "https://localhost:8080/"
        },
        "outputId": "55281c6f-f0d2-4ff5-9d80-7ae5adf2c1c8"
      },
      "source": [
        "sequences[:10]"
      ],
      "execution_count": null,
      "outputs": [
        {
          "output_type": "execute_result",
          "data": {
            "text/plain": [
              "[[25, 16],\n",
              " [25, 16, 12],\n",
              " [25, 16, 12, 20],\n",
              " [25, 16, 12, 20, 2],\n",
              " [25, 16, 12, 20, 2, 1],\n",
              " [14, 5],\n",
              " [14, 5, 15],\n",
              " [14, 5, 15, 9],\n",
              " [14, 5, 15, 9, 5],\n",
              " [14, 5, 15, 9, 5, 4]]"
            ]
          },
          "metadata": {},
          "execution_count": 20
        }
      ]
    },
    {
      "cell_type": "code",
      "metadata": {
        "id": "SR68pu2tpt2q",
        "colab": {
          "base_uri": "https://localhost:8080/"
        },
        "outputId": "ba738a23-5f1c-4189-f238-61aacecc2df3"
      },
      "source": [
        "max_len = max([len(x) for x in sequences])\n",
        "print(max_len)"
      ],
      "execution_count": null,
      "outputs": [
        {
          "output_type": "stream",
          "name": "stdout",
          "text": [
            "33\n"
          ]
        }
      ]
    },
    {
      "cell_type": "code",
      "metadata": {
        "id": "h_1BtWO7pt2r",
        "colab": {
          "base_uri": "https://localhost:8080/"
        },
        "outputId": "0e13ad43-c9e0-4ff8-dd23-a542c3048d2d"
      },
      "source": [
        "padded_sequences = tf.keras.preprocessing.sequence.pad_sequences(\n",
        "    sequences, padding= 'pre', maxlen=max_len\n",
        ")\n",
        "print(padded_sequences[0])"
      ],
      "execution_count": null,
      "outputs": [
        {
          "output_type": "stream",
          "name": "stdout",
          "text": [
            "[ 0  0  0  0  0  0  0  0  0  0  0  0  0  0  0  0  0  0  0  0  0  0  0  0\n",
            "  0  0  0  0  0  0  0 25 16]\n"
          ]
        }
      ]
    },
    {
      "cell_type": "code",
      "metadata": {
        "id": "sPlrLRpSpt2t",
        "colab": {
          "base_uri": "https://localhost:8080/"
        },
        "outputId": "e456ef7d-bcb1-493f-dee1-ce52912779f0"
      },
      "source": [
        "padded_sequences.shape"
      ],
      "execution_count": null,
      "outputs": [
        {
          "output_type": "execute_result",
          "data": {
            "text/plain": [
              "(88279, 33)"
            ]
          },
          "metadata": {},
          "execution_count": 23
        }
      ]
    },
    {
      "cell_type": "markdown",
      "metadata": {
        "id": "Mw-2RKBjP6XT"
      },
      "source": [
        "## Task 4: Creating Training and Validation Sets\n",
        "\n",
        "1. Creating training and validation sets"
      ]
    },
    {
      "cell_type": "code",
      "metadata": {
        "id": "BE4BIeSnpt2v",
        "colab": {
          "base_uri": "https://localhost:8080/"
        },
        "outputId": "f66ca149-ea33-48a7-bccf-83b5d0ca58b6"
      },
      "source": [
        "x, y = padded_sequences[:,:-1], padded_sequences[:,-1]\n",
        "print(x.shape, y.shape)"
      ],
      "execution_count": null,
      "outputs": [
        {
          "output_type": "stream",
          "name": "stdout",
          "text": [
            "(88279, 32) (88279,)\n"
          ]
        }
      ]
    },
    {
      "cell_type": "code",
      "metadata": {
        "id": "UsrAhnI2P6XU",
        "colab": {
          "base_uri": "https://localhost:8080/"
        },
        "outputId": "b59e8233-c244-48b2-85da-b3a8fd64dd4f"
      },
      "source": [
        "from sklearn.model_selection import train_test_split\n",
        "\n",
        "x_train, x_test, y_train, y_test = train_test_split(x,y)\n",
        "\n",
        "print(x_train.shape, y_train.shape)\n",
        "print(x_test.shape, y_test.shape)"
      ],
      "execution_count": null,
      "outputs": [
        {
          "output_type": "stream",
          "name": "stdout",
          "text": [
            "(66209, 32) (66209,)\n",
            "(22070, 32) (22070,)\n"
          ]
        }
      ]
    },
    {
      "cell_type": "code",
      "metadata": {
        "id": "cgqRZtqnpt2x",
        "colab": {
          "base_uri": "https://localhost:8080/"
        },
        "outputId": "29c81dde-69d9-42da-b90b-a50f76c1def7"
      },
      "source": [
        "num_chars= len(char_to_index.keys()) +1\n",
        "print(num_chars)"
      ],
      "execution_count": null,
      "outputs": [
        {
          "output_type": "execute_result",
          "data": {
            "text/plain": [
              "29"
            ]
          },
          "metadata": {},
          "execution_count": 28
        }
      ]
    },
    {
      "cell_type": "markdown",
      "metadata": {
        "id": "A_ENtIl9P6XU"
      },
      "source": [
        "## Task 5: Creating the Model"
      ]
    },
    {
      "cell_type": "code",
      "metadata": {
        "id": "vWP4bAO4P6XU",
        "colab": {
          "base_uri": "https://localhost:8080/"
        },
        "outputId": "42e620f2-cf9c-47a4-df5f-ce3e0a553d54"
      },
      "source": [
        "from tensorflow.keras.models import Sequential\n",
        "from tensorflow.keras.layers import Embedding, Conv1D, MaxPool1D, LSTM, Bidirectional, Dense\n",
        "\n",
        "model = Sequential([\n",
        "                    Embedding(num_chars, 8, input_length= max_len-1),\n",
        "                    Conv1D(64, 5, strides=1, activation='tanh', padding='causal'),\n",
        "                    LSTM(32),\n",
        "                    Dense(num_chars, activation='softmax')\n",
        "])\n",
        "\n",
        "model.compile(\n",
        "    loss=\"sparse_categorical_crossentropy\",\n",
        "    optimizer='adam',\n",
        "    metrics=['accuracy']\n",
        ")\n",
        "\n",
        "model.summary()"
      ],
      "execution_count": null,
      "outputs": [
        {
          "output_type": "stream",
          "name": "stdout",
          "text": [
            "Model: \"sequential\"\n",
            "_________________________________________________________________\n",
            "Layer (type)                 Output Shape              Param #   \n",
            "=================================================================\n",
            "embedding (Embedding)        (None, 32, 8)             232       \n",
            "_________________________________________________________________\n",
            "conv1d (Conv1D)              (None, 32, 64)            2624      \n",
            "_________________________________________________________________\n",
            "lstm (LSTM)                  (None, 32)                12416     \n",
            "_________________________________________________________________\n",
            "dense (Dense)                (None, 29)                957       \n",
            "=================================================================\n",
            "Total params: 16,229\n",
            "Trainable params: 16,229\n",
            "Non-trainable params: 0\n",
            "_________________________________________________________________\n"
          ]
        }
      ]
    },
    {
      "cell_type": "markdown",
      "metadata": {
        "id": "rLoTRH9KP6XU"
      },
      "source": [
        "## Task 6: Training the Model"
      ]
    },
    {
      "cell_type": "code",
      "metadata": {
        "id": "j0Ssl4qupt22",
        "colab": {
          "base_uri": "https://localhost:8080/"
        },
        "outputId": "436c4d16-de6d-48ac-ac00-e9da19c563d8"
      },
      "source": [
        "h = model.fit(\n",
        "    x_train, y_train, \n",
        "    validation_data= (x_test, y_test), \n",
        "    epochs= 50, verbose= 2, \n",
        "    callbacks=[\n",
        "              tf.keras.callbacks.EarlyStopping(monitor='val_accuracy', patience=3)\n",
        "    ]\n",
        ")"
      ],
      "execution_count": null,
      "outputs": [
        {
          "output_type": "stream",
          "name": "stdout",
          "text": [
            "Epoch 1/50\n",
            "2070/2070 - 53s - loss: 2.6738 - accuracy: 0.2031 - val_loss: 2.5246 - val_accuracy: 0.2355\n",
            "Epoch 2/50\n",
            "2070/2070 - 20s - loss: 2.4802 - accuracy: 0.2505 - val_loss: 2.4518 - val_accuracy: 0.2593\n",
            "Epoch 3/50\n",
            "2070/2070 - 20s - loss: 2.4168 - accuracy: 0.2681 - val_loss: 2.3984 - val_accuracy: 0.2754\n",
            "Epoch 4/50\n",
            "2070/2070 - 20s - loss: 2.3694 - accuracy: 0.2821 - val_loss: 2.3620 - val_accuracy: 0.2862\n",
            "Epoch 5/50\n",
            "2070/2070 - 20s - loss: 2.3351 - accuracy: 0.2900 - val_loss: 2.3360 - val_accuracy: 0.2943\n",
            "Epoch 6/50\n",
            "2070/2070 - 20s - loss: 2.3081 - accuracy: 0.2969 - val_loss: 2.3111 - val_accuracy: 0.3030\n",
            "Epoch 7/50\n",
            "2070/2070 - 20s - loss: 2.2829 - accuracy: 0.3020 - val_loss: 2.2975 - val_accuracy: 0.3058\n",
            "Epoch 8/50\n",
            "2070/2070 - 20s - loss: 2.2594 - accuracy: 0.3087 - val_loss: 2.2793 - val_accuracy: 0.3107\n",
            "Epoch 9/50\n",
            "2070/2070 - 20s - loss: 2.2374 - accuracy: 0.3194 - val_loss: 2.2658 - val_accuracy: 0.3140\n",
            "Epoch 10/50\n",
            "2070/2070 - 20s - loss: 2.2179 - accuracy: 0.3234 - val_loss: 2.2522 - val_accuracy: 0.3189\n",
            "Epoch 11/50\n",
            "2070/2070 - 20s - loss: 2.1991 - accuracy: 0.3282 - val_loss: 2.2378 - val_accuracy: 0.3233\n",
            "Epoch 12/50\n",
            "2070/2070 - 20s - loss: 2.1809 - accuracy: 0.3359 - val_loss: 2.2234 - val_accuracy: 0.3265\n",
            "Epoch 13/50\n",
            "2070/2070 - 20s - loss: 2.1639 - accuracy: 0.3422 - val_loss: 2.2196 - val_accuracy: 0.3325\n",
            "Epoch 14/50\n",
            "2070/2070 - 20s - loss: 2.1477 - accuracy: 0.3471 - val_loss: 2.2093 - val_accuracy: 0.3337\n",
            "Epoch 15/50\n",
            "2070/2070 - 20s - loss: 2.1331 - accuracy: 0.3527 - val_loss: 2.2004 - val_accuracy: 0.3396\n",
            "Epoch 16/50\n",
            "2070/2070 - 20s - loss: 2.1192 - accuracy: 0.3579 - val_loss: 2.1913 - val_accuracy: 0.3398\n",
            "Epoch 17/50\n",
            "2070/2070 - 20s - loss: 2.1054 - accuracy: 0.3627 - val_loss: 2.1845 - val_accuracy: 0.3445\n",
            "Epoch 18/50\n",
            "2070/2070 - 20s - loss: 2.0932 - accuracy: 0.3667 - val_loss: 2.1785 - val_accuracy: 0.3443\n",
            "Epoch 19/50\n",
            "2070/2070 - 20s - loss: 2.0806 - accuracy: 0.3721 - val_loss: 2.1760 - val_accuracy: 0.3488\n",
            "Epoch 20/50\n",
            "2070/2070 - 20s - loss: 2.0693 - accuracy: 0.3758 - val_loss: 2.1697 - val_accuracy: 0.3523\n",
            "Epoch 21/50\n",
            "2070/2070 - 20s - loss: 2.0589 - accuracy: 0.3793 - val_loss: 2.1657 - val_accuracy: 0.3543\n",
            "Epoch 22/50\n",
            "2070/2070 - 20s - loss: 2.0481 - accuracy: 0.3833 - val_loss: 2.1623 - val_accuracy: 0.3566\n",
            "Epoch 23/50\n",
            "2070/2070 - 20s - loss: 2.0381 - accuracy: 0.3865 - val_loss: 2.1609 - val_accuracy: 0.3547\n",
            "Epoch 24/50\n",
            "2070/2070 - 20s - loss: 2.0290 - accuracy: 0.3893 - val_loss: 2.1555 - val_accuracy: 0.3596\n",
            "Epoch 25/50\n",
            "2070/2070 - 20s - loss: 2.0203 - accuracy: 0.3927 - val_loss: 2.1517 - val_accuracy: 0.3597\n",
            "Epoch 26/50\n",
            "2070/2070 - 20s - loss: 2.0116 - accuracy: 0.3932 - val_loss: 2.1542 - val_accuracy: 0.3617\n",
            "Epoch 27/50\n",
            "2070/2070 - 20s - loss: 2.0042 - accuracy: 0.3969 - val_loss: 2.1501 - val_accuracy: 0.3632\n",
            "Epoch 28/50\n",
            "2070/2070 - 20s - loss: 1.9976 - accuracy: 0.3986 - val_loss: 2.1533 - val_accuracy: 0.3649\n",
            "Epoch 29/50\n",
            "2070/2070 - 20s - loss: 1.9891 - accuracy: 0.4005 - val_loss: 2.1505 - val_accuracy: 0.3667\n",
            "Epoch 30/50\n",
            "2070/2070 - 20s - loss: 1.9829 - accuracy: 0.4041 - val_loss: 2.1508 - val_accuracy: 0.3633\n",
            "Epoch 31/50\n",
            "2070/2070 - 20s - loss: 1.9745 - accuracy: 0.4069 - val_loss: 2.1538 - val_accuracy: 0.3634\n",
            "Epoch 32/50\n",
            "2070/2070 - 20s - loss: 1.9694 - accuracy: 0.4068 - val_loss: 2.1477 - val_accuracy: 0.3639\n"
          ]
        }
      ]
    },
    {
      "cell_type": "code",
      "metadata": {
        "colab": {
          "base_uri": "https://localhost:8080/",
          "height": 265
        },
        "id": "-OJfuNiTb-QP",
        "outputId": "eff870ec-3d15-4e5b-ea1e-6d83b56d8538"
      },
      "source": [
        "import matplotlib.pyplot as plt\n",
        "\n",
        "epochs_ran = len(h.history['loss'])\n",
        "\n",
        "plt.plot(range(0, epochs_ran), h.history['val_accuracy'], label= 'validation')\n",
        "plt.plot(range(0, epochs_ran), h.history['accuracy'], label= 'training')\n",
        "\n",
        "plt.legend()\n",
        "plt.show()"
      ],
      "execution_count": null,
      "outputs": [
        {
          "output_type": "display_data",
          "data": {
            "image/png": "[encoded data removed]",
            "text/plain": [
              "<Figure size 432x288 with 1 Axes>"
            ]
          },
          "metadata": {
            "needs_background": "light"
          }
        }
      ]
    },
    {
      "cell_type": "markdown",
      "metadata": {
        "id": "lHMBABLxP6XV"
      },
      "source": [
        "## Task 7: Generate Names!"
      ]
    },
    {
      "cell_type": "code",
      "metadata": {
        "id": "9f50aTRcpt24"
      },
      "source": [
        "def generate_names(seed):\n",
        "  for i in range(0,40):\n",
        "    seq= name_to_seq(seed)\n",
        "    padded = tf.keras.preprocessing.sequence.pad_sequences(\n",
        "        [seq], \n",
        "        padding='pre', \n",
        "        maxlen= max_len-1,\n",
        "        truncating= 'pre'\n",
        "    )\n",
        "    pred = model.predict(padded)[0]\n",
        "    pred_char= index_to_char[tf.argmax(pred).numpy()]\n",
        "    seed += pred_char\n",
        "\n",
        "    if pred_char == '\\t':\n",
        "      break\n",
        "  \n",
        "  print(seed)"
      ],
      "execution_count": null,
      "outputs": []
    },
    {
      "cell_type": "code",
      "metadata": {
        "id": "faQ0FInlpt26",
        "colab": {
          "base_uri": "https://localhost:8080/"
        },
        "outputId": "c214db19-2194-4a8c-eac5-fa35d0a2fb31"
      },
      "source": [
        "generate_names('a')\n"
      ],
      "execution_count": null,
      "outputs": [
        {
          "output_type": "stream",
          "name": "stdout",
          "text": [
            "artian cate\t\n"
          ]
        }
      ]
    },
    {
      "cell_type": "code",
      "metadata": {
        "colab": {
          "base_uri": "https://localhost:8080/"
        },
        "id": "mYIqtwc2gQ-f",
        "outputId": "f1c5ca81-087a-44fa-a7d7-03fe32fb94ec"
      },
      "source": [
        "generate_names('pe')"
      ],
      "execution_count": null,
      "outputs": [
        {
          "output_type": "stream",
          "name": "stdout",
          "text": [
            "penestire shark\t\n"
          ]
        }
      ]
    },
    {
      "cell_type": "code",
      "metadata": {
        "colab": {
          "base_uri": "https://localhost:8080/"
        },
        "id": "zuCqd3_EgUZ7",
        "outputId": "4ddc8191-5966-410a-8202-027f6098c8bc"
      },
      "source": [
        "generate_names('te')"
      ],
      "execution_count": null,
      "outputs": [
        {
          "output_type": "stream",
          "name": "stdout",
          "text": [
            "tentain man\t\n"
          ]
        }
      ]
    },
    {
      "cell_type": "code",
      "metadata": {
        "colab": {
          "base_uri": "https://localhost:8080/"
        },
        "id": "Gvzq1CddgXBs",
        "outputId": "88e926d6-85b3-493f-94d9-55d09b85b93c"
      },
      "source": [
        "generate_names('hel')"
      ],
      "execution_count": null,
      "outputs": [
        {
          "output_type": "stream",
          "name": "stdout",
          "text": [
            "hellstrange\t\n"
          ]
        }
      ]
    },
    {
      "cell_type": "code",
      "metadata": {
        "colab": {
          "base_uri": "https://localhost:8080/"
        },
        "id": "DziJCu79gatC",
        "outputId": "622692f4-a2d1-4a58-dd18-c430ad5a4296"
      },
      "source": [
        "generate_names('h')"
      ],
      "execution_count": null,
      "outputs": [
        {
          "output_type": "stream",
          "name": "stdout",
          "text": [
            "harrie strange\t\n"
          ]
        }
      ]
    },
    {
      "cell_type": "code",
      "metadata": {
        "colab": {
          "base_uri": "https://localhost:8080/"
        },
        "id": "AsOkYeWzgnes",
        "outputId": "961cdd19-497e-4588-dfff-a3f1a5efa36f"
      },
      "source": [
        "generate_names('z')"
      ],
      "execution_count": null,
      "outputs": [
        {
          "output_type": "stream",
          "name": "stdout",
          "text": [
            "zarather\t\n"
          ]
        }
      ]
    },
    {
      "cell_type": "code",
      "metadata": {
        "colab": {
          "base_uri": "https://localhost:8080/"
        },
        "id": "QZ1cPASMgqBY",
        "outputId": "32f536ee-610a-4a09-dac4-51d6730aec40"
      },
      "source": [
        "generate_names('x')"
      ],
      "execution_count": null,
      "outputs": [
        {
          "output_type": "stream",
          "name": "stdout",
          "text": [
            "xeno bod dester\t\n"
          ]
        }
      ]
    }
  ]
}